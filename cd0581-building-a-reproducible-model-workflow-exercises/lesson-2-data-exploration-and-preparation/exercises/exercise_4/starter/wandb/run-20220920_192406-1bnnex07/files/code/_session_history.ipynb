{
 "cells": [
  {
   "cell_type": "code",
   "execution_count": 1,
   "id": "40dc634e",
   "metadata": {},
   "outputs": [],
   "source": [
    "import wandb\n",
    "import pandas as pd\n",
    "import matplotlib.pyplot as plt"
   ]
  },
  {
   "cell_type": "code",
   "execution_count": 2,
   "id": "31726544",
   "metadata": {},
   "outputs": [],
   "source": [
    "import pandas_profiling"
   ]
  },
  {
   "cell_type": "code",
   "execution_count": 3,
   "id": "ebc2b928",
   "metadata": {},
   "outputs": [
    {
     "data": {
      "text/html": [
       "wandb version 0.13.3 is available!  To upgrade, please run:\n",
       " $ pip install wandb --upgrade"
      ],
      "text/plain": [
       "<IPython.core.display.HTML object>"
      ]
     },
     "metadata": {},
     "output_type": "display_data"
    },
    {
     "data": {
      "text/html": [
       "Tracking run with wandb version 0.12.17"
      ],
      "text/plain": [
       "<IPython.core.display.HTML object>"
      ]
     },
     "metadata": {},
     "output_type": "display_data"
    },
    {
     "data": {
      "text/html": [
       "Run data is saved locally in <code>D:\\programming\\Machine-Learning-DevOps\\cd0581-building-a-reproducible-model-workflow-exercises\\lesson-2-data-exploration-and-preparation\\exercises\\exercise_4\\starter\\wandb\\run-20220920_192406-1bnnex07</code>"
      ],
      "text/plain": [
       "<IPython.core.display.HTML object>"
      ]
     },
     "metadata": {},
     "output_type": "display_data"
    },
    {
     "data": {
      "text/html": [
       "Syncing run <strong><a href=\"https://wandb.ai/hoangledoan/exercise_4/runs/1bnnex07\" target=\"_blank\">charmed-sun-11</a></strong> to <a href=\"https://wandb.ai/hoangledoan/exercise_4\" target=\"_blank\">Weights & Biases</a> (<a href=\"https://wandb.me/run\" target=\"_blank\">docs</a>)<br/>"
      ],
      "text/plain": [
       "<IPython.core.display.HTML object>"
      ]
     },
     "metadata": {},
     "output_type": "display_data"
    }
   ],
   "source": [
    "run = wandb.init(project = 'exercise_4', save_code = True)"
   ]
  },
  {
   "cell_type": "code",
   "execution_count": 4,
   "id": "8bf066aa",
   "metadata": {},
   "outputs": [],
   "source": [
    "artifact = run.use_artifact('hoangledoan/exercise_4/genres_mod.parquet:v0')"
   ]
  },
  {
   "cell_type": "code",
   "execution_count": 5,
   "id": "a8bd92bd",
   "metadata": {},
   "outputs": [],
   "source": [
    "# Download the artifact and return the local path\n",
    "local_path = artifact.file()"
   ]
  },
  {
   "cell_type": "code",
   "execution_count": 6,
   "id": "3c5f99dc",
   "metadata": {},
   "outputs": [],
   "source": [
    "print(local_path)"
   ]
  },
  {
   "cell_type": "code",
   "execution_count": 7,
   "id": "0b547a63",
   "metadata": {},
   "outputs": [
    {
     "name": "stdout",
     "output_type": "stream",
     "text": [
      "       danceability  energy  key  loudness  mode  speechiness  acousticness  \\\n",
      "0             0.831   0.814    2    -7.364     1       0.4200      0.059800   \n",
      "1             0.719   0.493    8    -7.230     1       0.0794      0.401000   \n",
      "2             0.850   0.893    5       NaN     1       0.0623      0.013800   \n",
      "3             0.476   0.781    0    -4.710     1       0.1030      0.023700   \n",
      "4             0.798   0.624    2    -7.668     1       0.2930      0.217000   \n",
      "...             ...     ...  ...       ...   ...          ...           ...   \n",
      "42891         0.802   0.630    9    -9.348     0       0.4320      0.204000   \n",
      "42892         0.565   0.996   11       NaN     0       0.0682      0.000050   \n",
      "42893         0.514   0.955    0    -5.182     0       0.0402      0.000053   \n",
      "42894         0.749   0.639    1    -9.841     1       0.1940      0.080900   \n",
      "42895         0.645   0.980    0    -6.898     1       0.0445      0.000029   \n",
      "\n",
      "       instrumentalness  liveness  valence    tempo            type  \\\n",
      "0              0.013400    0.0556   0.3890  156.985  audio_features   \n",
      "1              0.000000    0.1180   0.1240  115.080  audio_features   \n",
      "2              0.000004    0.3720   0.0391  218.050  audio_features   \n",
      "3              0.000000    0.1140   0.1750  186.948  audio_features   \n",
      "4              0.000000    0.1660   0.5910  147.988  audio_features   \n",
      "...                 ...       ...      ...      ...             ...   \n",
      "42891          0.000002    0.0649   0.8770  144.008  audio_features   \n",
      "42892          0.816000    0.9220   0.0658  145.000  audio_features   \n",
      "42893          0.889000    0.3380   0.1100  138.030  audio_features   \n",
      "42894          0.609000    0.3620   0.6490  153.003  audio_features   \n",
      "42895          0.843000    0.3180   0.2600  143.018  audio_features   \n",
      "\n",
      "       duration_ms  time_signature            genre  \\\n",
      "0           124539               4        Dark Trap   \n",
      "1           224427               4        Dark Trap   \n",
      "2            98821               4        Dark Trap   \n",
      "3           123661               3        Dark Trap   \n",
      "4           123298               4        Dark Trap   \n",
      "...            ...             ...              ...   \n",
      "42891        66743               4  Underground Rap   \n",
      "42892       590875               4        psytrance   \n",
      "42893       221007               4           trance   \n",
      "42894       215202               4  Underground Rap   \n",
      "42895       443077               4        psytrance   \n",
      "\n",
      "                                           song_name  \\\n",
      "0                                Mercury: Retrograde   \n",
      "1                                          Pathology   \n",
      "2                                           Symbiote   \n",
      "3      ProductOfDrugs (Prod. The Virus and Antidote)   \n",
      "4                                              Venom   \n",
      "...                                              ...   \n",
      "42891                                     Bang Bros!   \n",
      "42892                                           None   \n",
      "42893                                           None   \n",
      "42894                             Southern Hostility   \n",
      "42895                                           None   \n",
      "\n",
      "                                           title  \n",
      "0                                           None  \n",
      "1                                           None  \n",
      "2                                           None  \n",
      "3                                           None  \n",
      "4                                           None  \n",
      "...                                          ...  \n",
      "42891                                       None  \n",
      "42892            PSYTRANCE BANGERS best new 2020  \n",
      "42893                      Top Trance Songs EVER  \n",
      "42894                                       None  \n",
      "42895  Psytrance: From Full on to Forrest Trance  \n",
      "\n",
      "[42896 rows x 17 columns]"
     ]
    }
   ],
   "source": [
    "df = pd.read_parquet(local_path)\n",
    "df"
   ]
  },
  {
   "cell_type": "code",
   "execution_count": 8,
   "id": "eb105800",
   "metadata": {},
   "outputs": [],
   "source": [
    "profile = pandas_profiling.ProfileReport(df)\n",
    "profile.to_widget()"
   ]
  },
  {
   "cell_type": "code",
   "execution_count": 9,
   "id": "cd84bfba",
   "metadata": {},
   "outputs": [],
   "source": [
    "print(pandas_profiling.__version__)"
   ]
  },
  {
   "cell_type": "code",
   "execution_count": 10,
   "id": "15ed490e",
   "metadata": {},
   "outputs": [],
   "source": [
    "import wandb\n",
    "import pandas as pd\n",
    "import matplotlib.pyplot as plt"
   ]
  },
  {
   "cell_type": "code",
   "execution_count": 11,
   "id": "f90406b8",
   "metadata": {},
   "outputs": [],
   "source": [
    "import pandas_profiling"
   ]
  },
  {
   "cell_type": "code",
   "execution_count": 12,
   "id": "d47c1588",
   "metadata": {},
   "outputs": [],
   "source": [
    "run = wandb.init(project = 'exercise_4', save_code = True)"
   ]
  }
 ],
 "metadata": {
  "kernelspec": {
   "display_name": "Python 3",
   "language": "python",
   "name": "python3"
  },
  "language_info": {
   "codemirror_mode": {
    "name": "ipython",
    "version": 3
   },
   "file_extension": ".py",
   "mimetype": "text/x-python",
   "name": "python",
   "nbconvert_exporter": "python",
   "pygments_lexer": "ipython3",
   "version": "3.9.13"
  }
 },
 "nbformat": 4,
 "nbformat_minor": 5
}
