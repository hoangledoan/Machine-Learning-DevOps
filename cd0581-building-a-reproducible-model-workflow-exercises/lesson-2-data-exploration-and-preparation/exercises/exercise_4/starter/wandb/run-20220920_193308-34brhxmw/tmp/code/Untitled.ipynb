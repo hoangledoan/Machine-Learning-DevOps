{
 "cells": [
  {
   "cell_type": "code",
   "execution_count": 10,
   "id": "b029216f",
   "metadata": {},
   "outputs": [],
   "source": [
    "import wandb\n",
    "import pandas as pd\n",
    "import matplotlib.pyplot as plt"
   ]
  },
  {
   "cell_type": "code",
   "execution_count": 11,
   "id": "15a1052d",
   "metadata": {},
   "outputs": [],
   "source": [
    "import pandas_profiling"
   ]
  },
  {
   "cell_type": "code",
   "execution_count": 12,
   "id": "d1bc0a78",
   "metadata": {},
   "outputs": [
    {
     "data": {
      "text/html": [
       "Finishing last run (ID:1bnnex07) before initializing another..."
      ],
      "text/plain": [
       "<IPython.core.display.HTML object>"
      ]
     },
     "metadata": {},
     "output_type": "display_data"
    },
    {
     "data": {
      "text/html": [
       "Waiting for W&B process to finish... <strong style=\"color:green\">(success).</strong>"
      ],
      "text/plain": [
       "<IPython.core.display.HTML object>"
      ]
     },
     "metadata": {},
     "output_type": "display_data"
    },
    {
     "data": {
      "application/vnd.jupyter.widget-view+json": {
       "model_id": "",
       "version_major": 2,
       "version_minor": 0
      },
      "text/plain": [
       "VBox(children=(Label(value='0.083 MB of 0.083 MB uploaded (0.036 MB deduped)\\r'), FloatProgress(value=1.0, max…"
      ]
     },
     "metadata": {},
     "output_type": "display_data"
    },
    {
     "data": {
      "text/html": [
       "W&B sync reduced upload amount by 35.2%             "
      ],
      "text/plain": [
       "<IPython.core.display.HTML object>"
      ]
     },
     "metadata": {},
     "output_type": "display_data"
    },
    {
     "data": {
      "text/html": [
       "Synced <strong style=\"color:#cdcd00\">charmed-sun-11</strong>: <a href=\"https://wandb.ai/hoangledoan/exercise_4/runs/1bnnex07\" target=\"_blank\">https://wandb.ai/hoangledoan/exercise_4/runs/1bnnex07</a><br/>Synced 7 W&B file(s), 0 media file(s), 3 artifact file(s) and 1 other file(s)"
      ],
      "text/plain": [
       "<IPython.core.display.HTML object>"
      ]
     },
     "metadata": {},
     "output_type": "display_data"
    },
    {
     "data": {
      "text/html": [
       "Find logs at: <code>.\\wandb\\run-20220920_192406-1bnnex07\\logs</code>"
      ],
      "text/plain": [
       "<IPython.core.display.HTML object>"
      ]
     },
     "metadata": {},
     "output_type": "display_data"
    },
    {
     "data": {
      "text/html": [
       "Successfully finished last run (ID:1bnnex07). Initializing new run:<br/>"
      ],
      "text/plain": [
       "<IPython.core.display.HTML object>"
      ]
     },
     "metadata": {},
     "output_type": "display_data"
    },
    {
     "data": {
      "text/html": [
       "wandb version 0.13.3 is available!  To upgrade, please run:\n",
       " $ pip install wandb --upgrade"
      ],
      "text/plain": [
       "<IPython.core.display.HTML object>"
      ]
     },
     "metadata": {},
     "output_type": "display_data"
    },
    {
     "data": {
      "text/html": [
       "Tracking run with wandb version 0.12.17"
      ],
      "text/plain": [
       "<IPython.core.display.HTML object>"
      ]
     },
     "metadata": {},
     "output_type": "display_data"
    },
    {
     "data": {
      "text/html": [
       "Run data is saved locally in <code>D:\\programming\\Machine-Learning-DevOps\\cd0581-building-a-reproducible-model-workflow-exercises\\lesson-2-data-exploration-and-preparation\\exercises\\exercise_4\\starter\\wandb\\run-20220920_193124-36fxu7eo</code>"
      ],
      "text/plain": [
       "<IPython.core.display.HTML object>"
      ]
     },
     "metadata": {},
     "output_type": "display_data"
    },
    {
     "data": {
      "text/html": [
       "Syncing run <strong><a href=\"https://wandb.ai/hoangledoan/exercise_4/runs/36fxu7eo\" target=\"_blank\">mild-dust-12</a></strong> to <a href=\"https://wandb.ai/hoangledoan/exercise_4\" target=\"_blank\">Weights & Biases</a> (<a href=\"https://wandb.me/run\" target=\"_blank\">docs</a>)<br/>"
      ],
      "text/plain": [
       "<IPython.core.display.HTML object>"
      ]
     },
     "metadata": {},
     "output_type": "display_data"
    }
   ],
   "source": [
    "run = wandb.init(project = 'exercise_4', save_code = True)"
   ]
  },
  {
   "cell_type": "code",
   "execution_count": 13,
   "id": "cf2ab8f0",
   "metadata": {},
   "outputs": [],
   "source": [
    "artifact = run.use_artifact('hoangledoan/exercise_4/genres_mod.parquet:v0')"
   ]
  },
  {
   "cell_type": "code",
   "execution_count": 14,
   "id": "7567ff1a",
   "metadata": {},
   "outputs": [],
   "source": [
    "# Download the artifact and return the local path\n",
    "local_path = artifact.file()"
   ]
  },
  {
   "cell_type": "code",
   "execution_count": 15,
   "id": "1abc9c2e",
   "metadata": {},
   "outputs": [
    {
     "name": "stdout",
     "output_type": "stream",
     "text": [
      ".\\artifacts\\genres_mod.parquet-v0\\genres_mod.parquet\n"
     ]
    }
   ],
   "source": [
    "print(local_path)"
   ]
  },
  {
   "cell_type": "code",
   "execution_count": 16,
   "id": "e7bd6229",
   "metadata": {},
   "outputs": [
    {
     "data": {
      "text/html": [
       "<div>\n",
       "<style scoped>\n",
       "    .dataframe tbody tr th:only-of-type {\n",
       "        vertical-align: middle;\n",
       "    }\n",
       "\n",
       "    .dataframe tbody tr th {\n",
       "        vertical-align: top;\n",
       "    }\n",
       "\n",
       "    .dataframe thead th {\n",
       "        text-align: right;\n",
       "    }\n",
       "</style>\n",
       "<table border=\"1\" class=\"dataframe\">\n",
       "  <thead>\n",
       "    <tr style=\"text-align: right;\">\n",
       "      <th></th>\n",
       "      <th>danceability</th>\n",
       "      <th>energy</th>\n",
       "      <th>key</th>\n",
       "      <th>loudness</th>\n",
       "      <th>mode</th>\n",
       "      <th>speechiness</th>\n",
       "      <th>acousticness</th>\n",
       "      <th>instrumentalness</th>\n",
       "      <th>liveness</th>\n",
       "      <th>valence</th>\n",
       "      <th>tempo</th>\n",
       "      <th>type</th>\n",
       "      <th>duration_ms</th>\n",
       "      <th>time_signature</th>\n",
       "      <th>genre</th>\n",
       "      <th>song_name</th>\n",
       "      <th>title</th>\n",
       "    </tr>\n",
       "  </thead>\n",
       "  <tbody>\n",
       "    <tr>\n",
       "      <th>0</th>\n",
       "      <td>0.831</td>\n",
       "      <td>0.814</td>\n",
       "      <td>2</td>\n",
       "      <td>-7.364</td>\n",
       "      <td>1</td>\n",
       "      <td>0.4200</td>\n",
       "      <td>0.059800</td>\n",
       "      <td>0.013400</td>\n",
       "      <td>0.0556</td>\n",
       "      <td>0.3890</td>\n",
       "      <td>156.985</td>\n",
       "      <td>audio_features</td>\n",
       "      <td>124539</td>\n",
       "      <td>4</td>\n",
       "      <td>Dark Trap</td>\n",
       "      <td>Mercury: Retrograde</td>\n",
       "      <td>None</td>\n",
       "    </tr>\n",
       "    <tr>\n",
       "      <th>1</th>\n",
       "      <td>0.719</td>\n",
       "      <td>0.493</td>\n",
       "      <td>8</td>\n",
       "      <td>-7.230</td>\n",
       "      <td>1</td>\n",
       "      <td>0.0794</td>\n",
       "      <td>0.401000</td>\n",
       "      <td>0.000000</td>\n",
       "      <td>0.1180</td>\n",
       "      <td>0.1240</td>\n",
       "      <td>115.080</td>\n",
       "      <td>audio_features</td>\n",
       "      <td>224427</td>\n",
       "      <td>4</td>\n",
       "      <td>Dark Trap</td>\n",
       "      <td>Pathology</td>\n",
       "      <td>None</td>\n",
       "    </tr>\n",
       "    <tr>\n",
       "      <th>2</th>\n",
       "      <td>0.850</td>\n",
       "      <td>0.893</td>\n",
       "      <td>5</td>\n",
       "      <td>NaN</td>\n",
       "      <td>1</td>\n",
       "      <td>0.0623</td>\n",
       "      <td>0.013800</td>\n",
       "      <td>0.000004</td>\n",
       "      <td>0.3720</td>\n",
       "      <td>0.0391</td>\n",
       "      <td>218.050</td>\n",
       "      <td>audio_features</td>\n",
       "      <td>98821</td>\n",
       "      <td>4</td>\n",
       "      <td>Dark Trap</td>\n",
       "      <td>Symbiote</td>\n",
       "      <td>None</td>\n",
       "    </tr>\n",
       "    <tr>\n",
       "      <th>3</th>\n",
       "      <td>0.476</td>\n",
       "      <td>0.781</td>\n",
       "      <td>0</td>\n",
       "      <td>-4.710</td>\n",
       "      <td>1</td>\n",
       "      <td>0.1030</td>\n",
       "      <td>0.023700</td>\n",
       "      <td>0.000000</td>\n",
       "      <td>0.1140</td>\n",
       "      <td>0.1750</td>\n",
       "      <td>186.948</td>\n",
       "      <td>audio_features</td>\n",
       "      <td>123661</td>\n",
       "      <td>3</td>\n",
       "      <td>Dark Trap</td>\n",
       "      <td>ProductOfDrugs (Prod. The Virus and Antidote)</td>\n",
       "      <td>None</td>\n",
       "    </tr>\n",
       "    <tr>\n",
       "      <th>4</th>\n",
       "      <td>0.798</td>\n",
       "      <td>0.624</td>\n",
       "      <td>2</td>\n",
       "      <td>-7.668</td>\n",
       "      <td>1</td>\n",
       "      <td>0.2930</td>\n",
       "      <td>0.217000</td>\n",
       "      <td>0.000000</td>\n",
       "      <td>0.1660</td>\n",
       "      <td>0.5910</td>\n",
       "      <td>147.988</td>\n",
       "      <td>audio_features</td>\n",
       "      <td>123298</td>\n",
       "      <td>4</td>\n",
       "      <td>Dark Trap</td>\n",
       "      <td>Venom</td>\n",
       "      <td>None</td>\n",
       "    </tr>\n",
       "    <tr>\n",
       "      <th>...</th>\n",
       "      <td>...</td>\n",
       "      <td>...</td>\n",
       "      <td>...</td>\n",
       "      <td>...</td>\n",
       "      <td>...</td>\n",
       "      <td>...</td>\n",
       "      <td>...</td>\n",
       "      <td>...</td>\n",
       "      <td>...</td>\n",
       "      <td>...</td>\n",
       "      <td>...</td>\n",
       "      <td>...</td>\n",
       "      <td>...</td>\n",
       "      <td>...</td>\n",
       "      <td>...</td>\n",
       "      <td>...</td>\n",
       "      <td>...</td>\n",
       "    </tr>\n",
       "    <tr>\n",
       "      <th>42891</th>\n",
       "      <td>0.802</td>\n",
       "      <td>0.630</td>\n",
       "      <td>9</td>\n",
       "      <td>-9.348</td>\n",
       "      <td>0</td>\n",
       "      <td>0.4320</td>\n",
       "      <td>0.204000</td>\n",
       "      <td>0.000002</td>\n",
       "      <td>0.0649</td>\n",
       "      <td>0.8770</td>\n",
       "      <td>144.008</td>\n",
       "      <td>audio_features</td>\n",
       "      <td>66743</td>\n",
       "      <td>4</td>\n",
       "      <td>Underground Rap</td>\n",
       "      <td>Bang Bros!</td>\n",
       "      <td>None</td>\n",
       "    </tr>\n",
       "    <tr>\n",
       "      <th>42892</th>\n",
       "      <td>0.565</td>\n",
       "      <td>0.996</td>\n",
       "      <td>11</td>\n",
       "      <td>NaN</td>\n",
       "      <td>0</td>\n",
       "      <td>0.0682</td>\n",
       "      <td>0.000050</td>\n",
       "      <td>0.816000</td>\n",
       "      <td>0.9220</td>\n",
       "      <td>0.0658</td>\n",
       "      <td>145.000</td>\n",
       "      <td>audio_features</td>\n",
       "      <td>590875</td>\n",
       "      <td>4</td>\n",
       "      <td>psytrance</td>\n",
       "      <td>None</td>\n",
       "      <td>PSYTRANCE BANGERS best new 2020</td>\n",
       "    </tr>\n",
       "    <tr>\n",
       "      <th>42893</th>\n",
       "      <td>0.514</td>\n",
       "      <td>0.955</td>\n",
       "      <td>0</td>\n",
       "      <td>-5.182</td>\n",
       "      <td>0</td>\n",
       "      <td>0.0402</td>\n",
       "      <td>0.000053</td>\n",
       "      <td>0.889000</td>\n",
       "      <td>0.3380</td>\n",
       "      <td>0.1100</td>\n",
       "      <td>138.030</td>\n",
       "      <td>audio_features</td>\n",
       "      <td>221007</td>\n",
       "      <td>4</td>\n",
       "      <td>trance</td>\n",
       "      <td>None</td>\n",
       "      <td>Top Trance Songs EVER</td>\n",
       "    </tr>\n",
       "    <tr>\n",
       "      <th>42894</th>\n",
       "      <td>0.749</td>\n",
       "      <td>0.639</td>\n",
       "      <td>1</td>\n",
       "      <td>-9.841</td>\n",
       "      <td>1</td>\n",
       "      <td>0.1940</td>\n",
       "      <td>0.080900</td>\n",
       "      <td>0.609000</td>\n",
       "      <td>0.3620</td>\n",
       "      <td>0.6490</td>\n",
       "      <td>153.003</td>\n",
       "      <td>audio_features</td>\n",
       "      <td>215202</td>\n",
       "      <td>4</td>\n",
       "      <td>Underground Rap</td>\n",
       "      <td>Southern Hostility</td>\n",
       "      <td>None</td>\n",
       "    </tr>\n",
       "    <tr>\n",
       "      <th>42895</th>\n",
       "      <td>0.645</td>\n",
       "      <td>0.980</td>\n",
       "      <td>0</td>\n",
       "      <td>-6.898</td>\n",
       "      <td>1</td>\n",
       "      <td>0.0445</td>\n",
       "      <td>0.000029</td>\n",
       "      <td>0.843000</td>\n",
       "      <td>0.3180</td>\n",
       "      <td>0.2600</td>\n",
       "      <td>143.018</td>\n",
       "      <td>audio_features</td>\n",
       "      <td>443077</td>\n",
       "      <td>4</td>\n",
       "      <td>psytrance</td>\n",
       "      <td>None</td>\n",
       "      <td>Psytrance: From Full on to Forrest Trance</td>\n",
       "    </tr>\n",
       "  </tbody>\n",
       "</table>\n",
       "<p>42896 rows × 17 columns</p>\n",
       "</div>"
      ],
      "text/plain": [
       "       danceability  energy  key  loudness  mode  speechiness  acousticness  \\\n",
       "0             0.831   0.814    2    -7.364     1       0.4200      0.059800   \n",
       "1             0.719   0.493    8    -7.230     1       0.0794      0.401000   \n",
       "2             0.850   0.893    5       NaN     1       0.0623      0.013800   \n",
       "3             0.476   0.781    0    -4.710     1       0.1030      0.023700   \n",
       "4             0.798   0.624    2    -7.668     1       0.2930      0.217000   \n",
       "...             ...     ...  ...       ...   ...          ...           ...   \n",
       "42891         0.802   0.630    9    -9.348     0       0.4320      0.204000   \n",
       "42892         0.565   0.996   11       NaN     0       0.0682      0.000050   \n",
       "42893         0.514   0.955    0    -5.182     0       0.0402      0.000053   \n",
       "42894         0.749   0.639    1    -9.841     1       0.1940      0.080900   \n",
       "42895         0.645   0.980    0    -6.898     1       0.0445      0.000029   \n",
       "\n",
       "       instrumentalness  liveness  valence    tempo            type  \\\n",
       "0              0.013400    0.0556   0.3890  156.985  audio_features   \n",
       "1              0.000000    0.1180   0.1240  115.080  audio_features   \n",
       "2              0.000004    0.3720   0.0391  218.050  audio_features   \n",
       "3              0.000000    0.1140   0.1750  186.948  audio_features   \n",
       "4              0.000000    0.1660   0.5910  147.988  audio_features   \n",
       "...                 ...       ...      ...      ...             ...   \n",
       "42891          0.000002    0.0649   0.8770  144.008  audio_features   \n",
       "42892          0.816000    0.9220   0.0658  145.000  audio_features   \n",
       "42893          0.889000    0.3380   0.1100  138.030  audio_features   \n",
       "42894          0.609000    0.3620   0.6490  153.003  audio_features   \n",
       "42895          0.843000    0.3180   0.2600  143.018  audio_features   \n",
       "\n",
       "       duration_ms  time_signature            genre  \\\n",
       "0           124539               4        Dark Trap   \n",
       "1           224427               4        Dark Trap   \n",
       "2            98821               4        Dark Trap   \n",
       "3           123661               3        Dark Trap   \n",
       "4           123298               4        Dark Trap   \n",
       "...            ...             ...              ...   \n",
       "42891        66743               4  Underground Rap   \n",
       "42892       590875               4        psytrance   \n",
       "42893       221007               4           trance   \n",
       "42894       215202               4  Underground Rap   \n",
       "42895       443077               4        psytrance   \n",
       "\n",
       "                                           song_name  \\\n",
       "0                                Mercury: Retrograde   \n",
       "1                                          Pathology   \n",
       "2                                           Symbiote   \n",
       "3      ProductOfDrugs (Prod. The Virus and Antidote)   \n",
       "4                                              Venom   \n",
       "...                                              ...   \n",
       "42891                                     Bang Bros!   \n",
       "42892                                           None   \n",
       "42893                                           None   \n",
       "42894                             Southern Hostility   \n",
       "42895                                           None   \n",
       "\n",
       "                                           title  \n",
       "0                                           None  \n",
       "1                                           None  \n",
       "2                                           None  \n",
       "3                                           None  \n",
       "4                                           None  \n",
       "...                                          ...  \n",
       "42891                                       None  \n",
       "42892            PSYTRANCE BANGERS best new 2020  \n",
       "42893                      Top Trance Songs EVER  \n",
       "42894                                       None  \n",
       "42895  Psytrance: From Full on to Forrest Trance  \n",
       "\n",
       "[42896 rows x 17 columns]"
      ]
     },
     "execution_count": 16,
     "metadata": {},
     "output_type": "execute_result"
    }
   ],
   "source": [
    "df = pd.read_parquet(local_path)\n",
    "df"
   ]
  },
  {
   "cell_type": "code",
   "execution_count": 17,
   "id": "1e54e445",
   "metadata": {},
   "outputs": [
    {
     "name": "stdout",
     "output_type": "stream",
     "text": [
      "2.11.0\n"
     ]
    }
   ],
   "source": [
    "print(pandas_profiling.__version__)"
   ]
  },
  {
   "cell_type": "code",
   "execution_count": null,
   "id": "9eec8b9e",
   "metadata": {
    "scrolled": true
   },
   "outputs": [],
   "source": [
    "profile = pandas_profiling.ProfileReport(df)\n",
    "profile.to_widget()"
   ]
  },
  {
   "cell_type": "code",
   "execution_count": null,
   "id": "c5abeda3",
   "metadata": {},
   "outputs": [],
   "source": []
  }
 ],
 "metadata": {
  "kernelspec": {
   "display_name": "Python 3 (ipykernel)",
   "language": "python",
   "name": "python3"
  },
  "language_info": {
   "codemirror_mode": {
    "name": "ipython",
    "version": 3
   },
   "file_extension": ".py",
   "mimetype": "text/x-python",
   "name": "python",
   "nbconvert_exporter": "python",
   "pygments_lexer": "ipython3",
   "version": "3.9.13"
  }
 },
 "nbformat": 4,
 "nbformat_minor": 5
}
