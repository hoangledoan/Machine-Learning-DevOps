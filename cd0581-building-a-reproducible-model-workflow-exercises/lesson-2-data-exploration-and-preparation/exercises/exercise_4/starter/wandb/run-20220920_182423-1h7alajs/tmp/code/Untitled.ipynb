{
 "cells": [
  {
   "cell_type": "code",
   "execution_count": 12,
   "id": "b029216f",
   "metadata": {},
   "outputs": [],
   "source": [
    "import wandb\n",
    "import pandas as pd\n",
    "import matplotlib.pyplot as plt"
   ]
  },
  {
   "cell_type": "code",
   "execution_count": 2,
   "id": "15a1052d",
   "metadata": {},
   "outputs": [],
   "source": [
    "import pandas_profiling"
   ]
  },
  {
   "cell_type": "code",
   "execution_count": 3,
   "id": "d1bc0a78",
   "metadata": {},
   "outputs": [
    {
     "name": "stderr",
     "output_type": "stream",
     "text": [
      "\u001b[34m\u001b[1mwandb\u001b[0m: Currently logged in as: \u001b[33mhoangledoan\u001b[0m. Use \u001b[1m`wandb login --relogin`\u001b[0m to force relogin\n"
     ]
    },
    {
     "data": {
      "text/html": [
       "wandb version 0.13.3 is available!  To upgrade, please run:\n",
       " $ pip install wandb --upgrade"
      ],
      "text/plain": [
       "<IPython.core.display.HTML object>"
      ]
     },
     "metadata": {},
     "output_type": "display_data"
    },
    {
     "data": {
      "text/html": [
       "Tracking run with wandb version 0.12.17"
      ],
      "text/plain": [
       "<IPython.core.display.HTML object>"
      ]
     },
     "metadata": {},
     "output_type": "display_data"
    },
    {
     "data": {
      "text/html": [
       "Run data is saved locally in <code>D:\\programming\\Machine-Learning-DevOps\\cd0581-building-a-reproducible-model-workflow-exercises\\lesson-2-data-exploration-and-preparation\\exercises\\exercise_4\\starter\\wandb\\run-20220920_172537-3ml37dm4</code>"
      ],
      "text/plain": [
       "<IPython.core.display.HTML object>"
      ]
     },
     "metadata": {},
     "output_type": "display_data"
    },
    {
     "data": {
      "text/html": [
       "Syncing run <strong><a href=\"https://wandb.ai/hoangledoan/exercise_4/runs/3ml37dm4\" target=\"_blank\">dauntless-firefly-8</a></strong> to <a href=\"https://wandb.ai/hoangledoan/exercise_4\" target=\"_blank\">Weights & Biases</a> (<a href=\"https://wandb.me/run\" target=\"_blank\">docs</a>)<br/>"
      ],
      "text/plain": [
       "<IPython.core.display.HTML object>"
      ]
     },
     "metadata": {},
     "output_type": "display_data"
    }
   ],
   "source": [
    "run = wandb.init(project = 'exercise_4', save_code = True)"
   ]
  },
  {
   "cell_type": "code",
   "execution_count": 4,
   "id": "cf2ab8f0",
   "metadata": {},
   "outputs": [],
   "source": [
    "artifact = run.use_artifact('hoangledoan/exercise_4/genres_mod.parquet:v0')"
   ]
  },
  {
   "cell_type": "code",
   "execution_count": 5,
   "id": "7567ff1a",
   "metadata": {},
   "outputs": [],
   "source": [
    "# Download the artifact and return the local path\n",
    "local_path = artifact.file()"
   ]
  },
  {
   "cell_type": "code",
   "execution_count": 6,
   "id": "1abc9c2e",
   "metadata": {},
   "outputs": [
    {
     "name": "stdout",
     "output_type": "stream",
     "text": [
      ".\\artifacts\\genres_mod.parquet-v0\\genres_mod.parquet\n"
     ]
    }
   ],
   "source": [
    "print(local_path)"
   ]
  },
  {
   "cell_type": "code",
   "execution_count": 7,
   "id": "e7bd6229",
   "metadata": {},
   "outputs": [
    {
     "data": {
      "text/html": [
       "<div>\n",
       "<style scoped>\n",
       "    .dataframe tbody tr th:only-of-type {\n",
       "        vertical-align: middle;\n",
       "    }\n",
       "\n",
       "    .dataframe tbody tr th {\n",
       "        vertical-align: top;\n",
       "    }\n",
       "\n",
       "    .dataframe thead th {\n",
       "        text-align: right;\n",
       "    }\n",
       "</style>\n",
       "<table border=\"1\" class=\"dataframe\">\n",
       "  <thead>\n",
       "    <tr style=\"text-align: right;\">\n",
       "      <th></th>\n",
       "      <th>danceability</th>\n",
       "      <th>energy</th>\n",
       "      <th>key</th>\n",
       "      <th>loudness</th>\n",
       "      <th>mode</th>\n",
       "      <th>speechiness</th>\n",
       "      <th>acousticness</th>\n",
       "      <th>instrumentalness</th>\n",
       "      <th>liveness</th>\n",
       "      <th>valence</th>\n",
       "      <th>tempo</th>\n",
       "      <th>type</th>\n",
       "      <th>duration_ms</th>\n",
       "      <th>time_signature</th>\n",
       "      <th>genre</th>\n",
       "      <th>song_name</th>\n",
       "      <th>title</th>\n",
       "    </tr>\n",
       "  </thead>\n",
       "  <tbody>\n",
       "    <tr>\n",
       "      <th>0</th>\n",
       "      <td>0.831</td>\n",
       "      <td>0.814</td>\n",
       "      <td>2</td>\n",
       "      <td>-7.364</td>\n",
       "      <td>1</td>\n",
       "      <td>0.4200</td>\n",
       "      <td>0.059800</td>\n",
       "      <td>0.013400</td>\n",
       "      <td>0.0556</td>\n",
       "      <td>0.3890</td>\n",
       "      <td>156.985</td>\n",
       "      <td>audio_features</td>\n",
       "      <td>124539</td>\n",
       "      <td>4</td>\n",
       "      <td>Dark Trap</td>\n",
       "      <td>Mercury: Retrograde</td>\n",
       "      <td>None</td>\n",
       "    </tr>\n",
       "    <tr>\n",
       "      <th>1</th>\n",
       "      <td>0.719</td>\n",
       "      <td>0.493</td>\n",
       "      <td>8</td>\n",
       "      <td>-7.230</td>\n",
       "      <td>1</td>\n",
       "      <td>0.0794</td>\n",
       "      <td>0.401000</td>\n",
       "      <td>0.000000</td>\n",
       "      <td>0.1180</td>\n",
       "      <td>0.1240</td>\n",
       "      <td>115.080</td>\n",
       "      <td>audio_features</td>\n",
       "      <td>224427</td>\n",
       "      <td>4</td>\n",
       "      <td>Dark Trap</td>\n",
       "      <td>Pathology</td>\n",
       "      <td>None</td>\n",
       "    </tr>\n",
       "    <tr>\n",
       "      <th>2</th>\n",
       "      <td>0.850</td>\n",
       "      <td>0.893</td>\n",
       "      <td>5</td>\n",
       "      <td>NaN</td>\n",
       "      <td>1</td>\n",
       "      <td>0.0623</td>\n",
       "      <td>0.013800</td>\n",
       "      <td>0.000004</td>\n",
       "      <td>0.3720</td>\n",
       "      <td>0.0391</td>\n",
       "      <td>218.050</td>\n",
       "      <td>audio_features</td>\n",
       "      <td>98821</td>\n",
       "      <td>4</td>\n",
       "      <td>Dark Trap</td>\n",
       "      <td>Symbiote</td>\n",
       "      <td>None</td>\n",
       "    </tr>\n",
       "    <tr>\n",
       "      <th>3</th>\n",
       "      <td>0.476</td>\n",
       "      <td>0.781</td>\n",
       "      <td>0</td>\n",
       "      <td>-4.710</td>\n",
       "      <td>1</td>\n",
       "      <td>0.1030</td>\n",
       "      <td>0.023700</td>\n",
       "      <td>0.000000</td>\n",
       "      <td>0.1140</td>\n",
       "      <td>0.1750</td>\n",
       "      <td>186.948</td>\n",
       "      <td>audio_features</td>\n",
       "      <td>123661</td>\n",
       "      <td>3</td>\n",
       "      <td>Dark Trap</td>\n",
       "      <td>ProductOfDrugs (Prod. The Virus and Antidote)</td>\n",
       "      <td>None</td>\n",
       "    </tr>\n",
       "    <tr>\n",
       "      <th>4</th>\n",
       "      <td>0.798</td>\n",
       "      <td>0.624</td>\n",
       "      <td>2</td>\n",
       "      <td>-7.668</td>\n",
       "      <td>1</td>\n",
       "      <td>0.2930</td>\n",
       "      <td>0.217000</td>\n",
       "      <td>0.000000</td>\n",
       "      <td>0.1660</td>\n",
       "      <td>0.5910</td>\n",
       "      <td>147.988</td>\n",
       "      <td>audio_features</td>\n",
       "      <td>123298</td>\n",
       "      <td>4</td>\n",
       "      <td>Dark Trap</td>\n",
       "      <td>Venom</td>\n",
       "      <td>None</td>\n",
       "    </tr>\n",
       "    <tr>\n",
       "      <th>...</th>\n",
       "      <td>...</td>\n",
       "      <td>...</td>\n",
       "      <td>...</td>\n",
       "      <td>...</td>\n",
       "      <td>...</td>\n",
       "      <td>...</td>\n",
       "      <td>...</td>\n",
       "      <td>...</td>\n",
       "      <td>...</td>\n",
       "      <td>...</td>\n",
       "      <td>...</td>\n",
       "      <td>...</td>\n",
       "      <td>...</td>\n",
       "      <td>...</td>\n",
       "      <td>...</td>\n",
       "      <td>...</td>\n",
       "      <td>...</td>\n",
       "    </tr>\n",
       "    <tr>\n",
       "      <th>42891</th>\n",
       "      <td>0.802</td>\n",
       "      <td>0.630</td>\n",
       "      <td>9</td>\n",
       "      <td>-9.348</td>\n",
       "      <td>0</td>\n",
       "      <td>0.4320</td>\n",
       "      <td>0.204000</td>\n",
       "      <td>0.000002</td>\n",
       "      <td>0.0649</td>\n",
       "      <td>0.8770</td>\n",
       "      <td>144.008</td>\n",
       "      <td>audio_features</td>\n",
       "      <td>66743</td>\n",
       "      <td>4</td>\n",
       "      <td>Underground Rap</td>\n",
       "      <td>Bang Bros!</td>\n",
       "      <td>None</td>\n",
       "    </tr>\n",
       "    <tr>\n",
       "      <th>42892</th>\n",
       "      <td>0.565</td>\n",
       "      <td>0.996</td>\n",
       "      <td>11</td>\n",
       "      <td>NaN</td>\n",
       "      <td>0</td>\n",
       "      <td>0.0682</td>\n",
       "      <td>0.000050</td>\n",
       "      <td>0.816000</td>\n",
       "      <td>0.9220</td>\n",
       "      <td>0.0658</td>\n",
       "      <td>145.000</td>\n",
       "      <td>audio_features</td>\n",
       "      <td>590875</td>\n",
       "      <td>4</td>\n",
       "      <td>psytrance</td>\n",
       "      <td>None</td>\n",
       "      <td>PSYTRANCE BANGERS best new 2020</td>\n",
       "    </tr>\n",
       "    <tr>\n",
       "      <th>42893</th>\n",
       "      <td>0.514</td>\n",
       "      <td>0.955</td>\n",
       "      <td>0</td>\n",
       "      <td>-5.182</td>\n",
       "      <td>0</td>\n",
       "      <td>0.0402</td>\n",
       "      <td>0.000053</td>\n",
       "      <td>0.889000</td>\n",
       "      <td>0.3380</td>\n",
       "      <td>0.1100</td>\n",
       "      <td>138.030</td>\n",
       "      <td>audio_features</td>\n",
       "      <td>221007</td>\n",
       "      <td>4</td>\n",
       "      <td>trance</td>\n",
       "      <td>None</td>\n",
       "      <td>Top Trance Songs EVER</td>\n",
       "    </tr>\n",
       "    <tr>\n",
       "      <th>42894</th>\n",
       "      <td>0.749</td>\n",
       "      <td>0.639</td>\n",
       "      <td>1</td>\n",
       "      <td>-9.841</td>\n",
       "      <td>1</td>\n",
       "      <td>0.1940</td>\n",
       "      <td>0.080900</td>\n",
       "      <td>0.609000</td>\n",
       "      <td>0.3620</td>\n",
       "      <td>0.6490</td>\n",
       "      <td>153.003</td>\n",
       "      <td>audio_features</td>\n",
       "      <td>215202</td>\n",
       "      <td>4</td>\n",
       "      <td>Underground Rap</td>\n",
       "      <td>Southern Hostility</td>\n",
       "      <td>None</td>\n",
       "    </tr>\n",
       "    <tr>\n",
       "      <th>42895</th>\n",
       "      <td>0.645</td>\n",
       "      <td>0.980</td>\n",
       "      <td>0</td>\n",
       "      <td>-6.898</td>\n",
       "      <td>1</td>\n",
       "      <td>0.0445</td>\n",
       "      <td>0.000029</td>\n",
       "      <td>0.843000</td>\n",
       "      <td>0.3180</td>\n",
       "      <td>0.2600</td>\n",
       "      <td>143.018</td>\n",
       "      <td>audio_features</td>\n",
       "      <td>443077</td>\n",
       "      <td>4</td>\n",
       "      <td>psytrance</td>\n",
       "      <td>None</td>\n",
       "      <td>Psytrance: From Full on to Forrest Trance</td>\n",
       "    </tr>\n",
       "  </tbody>\n",
       "</table>\n",
       "<p>42896 rows × 17 columns</p>\n",
       "</div>"
      ],
      "text/plain": [
       "       danceability  energy  key  loudness  mode  speechiness  acousticness  \\\n",
       "0             0.831   0.814    2    -7.364     1       0.4200      0.059800   \n",
       "1             0.719   0.493    8    -7.230     1       0.0794      0.401000   \n",
       "2             0.850   0.893    5       NaN     1       0.0623      0.013800   \n",
       "3             0.476   0.781    0    -4.710     1       0.1030      0.023700   \n",
       "4             0.798   0.624    2    -7.668     1       0.2930      0.217000   \n",
       "...             ...     ...  ...       ...   ...          ...           ...   \n",
       "42891         0.802   0.630    9    -9.348     0       0.4320      0.204000   \n",
       "42892         0.565   0.996   11       NaN     0       0.0682      0.000050   \n",
       "42893         0.514   0.955    0    -5.182     0       0.0402      0.000053   \n",
       "42894         0.749   0.639    1    -9.841     1       0.1940      0.080900   \n",
       "42895         0.645   0.980    0    -6.898     1       0.0445      0.000029   \n",
       "\n",
       "       instrumentalness  liveness  valence    tempo            type  \\\n",
       "0              0.013400    0.0556   0.3890  156.985  audio_features   \n",
       "1              0.000000    0.1180   0.1240  115.080  audio_features   \n",
       "2              0.000004    0.3720   0.0391  218.050  audio_features   \n",
       "3              0.000000    0.1140   0.1750  186.948  audio_features   \n",
       "4              0.000000    0.1660   0.5910  147.988  audio_features   \n",
       "...                 ...       ...      ...      ...             ...   \n",
       "42891          0.000002    0.0649   0.8770  144.008  audio_features   \n",
       "42892          0.816000    0.9220   0.0658  145.000  audio_features   \n",
       "42893          0.889000    0.3380   0.1100  138.030  audio_features   \n",
       "42894          0.609000    0.3620   0.6490  153.003  audio_features   \n",
       "42895          0.843000    0.3180   0.2600  143.018  audio_features   \n",
       "\n",
       "       duration_ms  time_signature            genre  \\\n",
       "0           124539               4        Dark Trap   \n",
       "1           224427               4        Dark Trap   \n",
       "2            98821               4        Dark Trap   \n",
       "3           123661               3        Dark Trap   \n",
       "4           123298               4        Dark Trap   \n",
       "...            ...             ...              ...   \n",
       "42891        66743               4  Underground Rap   \n",
       "42892       590875               4        psytrance   \n",
       "42893       221007               4           trance   \n",
       "42894       215202               4  Underground Rap   \n",
       "42895       443077               4        psytrance   \n",
       "\n",
       "                                           song_name  \\\n",
       "0                                Mercury: Retrograde   \n",
       "1                                          Pathology   \n",
       "2                                           Symbiote   \n",
       "3      ProductOfDrugs (Prod. The Virus and Antidote)   \n",
       "4                                              Venom   \n",
       "...                                              ...   \n",
       "42891                                     Bang Bros!   \n",
       "42892                                           None   \n",
       "42893                                           None   \n",
       "42894                             Southern Hostility   \n",
       "42895                                           None   \n",
       "\n",
       "                                           title  \n",
       "0                                           None  \n",
       "1                                           None  \n",
       "2                                           None  \n",
       "3                                           None  \n",
       "4                                           None  \n",
       "...                                          ...  \n",
       "42891                                       None  \n",
       "42892            PSYTRANCE BANGERS best new 2020  \n",
       "42893                      Top Trance Songs EVER  \n",
       "42894                                       None  \n",
       "42895  Psytrance: From Full on to Forrest Trance  \n",
       "\n",
       "[42896 rows x 17 columns]"
      ]
     },
     "execution_count": 7,
     "metadata": {},
     "output_type": "execute_result"
    }
   ],
   "source": [
    "df = pd.read_parquet(local_path)\n",
    "df"
   ]
  },
  {
   "cell_type": "code",
   "execution_count": 8,
   "id": "df1bfd90",
   "metadata": {},
   "outputs": [
    {
     "name": "stdout",
     "output_type": "stream",
     "text": [
      "Collecting visions==0.7.1\n",
      "  Using cached visions-0.7.1-py3-none-any.whl (102 kB)\n",
      "Requirement already satisfied: numpy in c:\\users\\pc\\.conda\\envs\\mlflow-66a46d515870df27c48f747bd1e558818cc8e2ba\\lib\\site-packages (from visions==0.7.1) (1.23.3)\n",
      "Requirement already satisfied: attrs>=19.3.0 in c:\\users\\pc\\.conda\\envs\\mlflow-66a46d515870df27c48f747bd1e558818cc8e2ba\\lib\\site-packages (from visions==0.7.1) (22.1.0)\n",
      "Requirement already satisfied: pandas>=0.25.3 in c:\\users\\pc\\.conda\\envs\\mlflow-66a46d515870df27c48f747bd1e558818cc8e2ba\\lib\\site-packages (from visions==0.7.1) (1.2.3)\n",
      "Requirement already satisfied: networkx>=2.4 in c:\\users\\pc\\.conda\\envs\\mlflow-66a46d515870df27c48f747bd1e558818cc8e2ba\\lib\\site-packages (from visions==0.7.1) (2.8.6)\n",
      "Requirement already satisfied: tangled-up-in-unicode>=0.0.4 in c:\\users\\pc\\.conda\\envs\\mlflow-66a46d515870df27c48f747bd1e558818cc8e2ba\\lib\\site-packages (from visions==0.7.1) (0.2.0)\n",
      "Collecting multimethod==1.4\n",
      "  Downloading multimethod-1.4-py2.py3-none-any.whl (7.3 kB)\n",
      "Requirement already satisfied: python-dateutil>=2.7.3 in c:\\users\\pc\\.conda\\envs\\mlflow-66a46d515870df27c48f747bd1e558818cc8e2ba\\lib\\site-packages (from pandas>=0.25.3->visions==0.7.1) (2.8.2)\n",
      "Requirement already satisfied: pytz>=2017.3 in c:\\users\\pc\\.conda\\envs\\mlflow-66a46d515870df27c48f747bd1e558818cc8e2ba\\lib\\site-packages (from pandas>=0.25.3->visions==0.7.1) (2022.2.1)\n",
      "Requirement already satisfied: six>=1.5 in c:\\users\\pc\\.conda\\envs\\mlflow-66a46d515870df27c48f747bd1e558818cc8e2ba\\lib\\site-packages (from python-dateutil>=2.7.3->pandas>=0.25.3->visions==0.7.1) (1.16.0)\n",
      "Collecting bottleneck\n",
      "  Using cached Bottleneck-1.3.5-cp39-cp39-win_amd64.whl (109 kB)\n",
      "Installing collected packages: multimethod, bottleneck, visions\n",
      "  Attempting uninstall: visions\n",
      "    Found existing installation: visions 0.4.4\n",
      "    Uninstalling visions-0.4.4:\n",
      "      Successfully uninstalled visions-0.4.4\n",
      "Successfully installed bottleneck-1.3.5 multimethod-1.4 visions-0.7.1\n"
     ]
    },
    {
     "name": "stderr",
     "output_type": "stream",
     "text": [
      "ERROR: pip's dependency resolver does not currently take into account all the packages that are installed. This behaviour is the source of the following dependency conflicts.\n",
      "pandas-profiling 2.8.0 requires visions[type_image_path]==0.4.4, but you have visions 0.7.1 which is incompatible.\n"
     ]
    }
   ],
   "source": [
    "!pip install visions==0.7.1"
   ]
  },
  {
   "cell_type": "code",
   "execution_count": 7,
   "id": "1e54e445",
   "metadata": {},
   "outputs": [
    {
     "name": "stdout",
     "output_type": "stream",
     "text": [
      "2.8.0\n"
     ]
    }
   ],
   "source": [
    "print(pandas_profiling.__version__)"
   ]
  },
  {
   "cell_type": "code",
   "execution_count": 10,
   "id": "73fc2967",
   "metadata": {},
   "outputs": [
    {
     "name": "stdout",
     "output_type": "stream",
     "text": [
      "Requirement already satisfied: imagehash in c:\\users\\pc\\.conda\\envs\\mlflow-66a46d515870df27c48f747bd1e558818cc8e2ba\\lib\\site-packages (4.3.0)\n",
      "Requirement already satisfied: pillow in c:\\users\\pc\\.conda\\envs\\mlflow-66a46d515870df27c48f747bd1e558818cc8e2ba\\lib\\site-packages (from imagehash) (9.2.0)\n",
      "Requirement already satisfied: PyWavelets in c:\\users\\pc\\.conda\\envs\\mlflow-66a46d515870df27c48f747bd1e558818cc8e2ba\\lib\\site-packages (from imagehash) (1.3.0)\n",
      "Requirement already satisfied: scipy in c:\\users\\pc\\.conda\\envs\\mlflow-66a46d515870df27c48f747bd1e558818cc8e2ba\\lib\\site-packages (from imagehash) (1.9.1)\n",
      "Requirement already satisfied: numpy in c:\\users\\pc\\.conda\\envs\\mlflow-66a46d515870df27c48f747bd1e558818cc8e2ba\\lib\\site-packages (from imagehash) (1.23.3)\n"
     ]
    }
   ],
   "source": [
    "!pip install imagehash"
   ]
  },
  {
   "cell_type": "code",
   "execution_count": 2,
   "id": "97a44789",
   "metadata": {},
   "outputs": [
    {
     "name": "stdout",
     "output_type": "stream",
     "text": [
      "Requirement already satisfied: pandas-profiling==2.8.0 in c:\\users\\pc\\.conda\\envs\\mlflow-520690d1b5ee3415086097f85867e680d1c79ad4\\lib\\site-packages (2.8.0)\n",
      "Requirement already satisfied: scipy>=1.4.1 in c:\\users\\pc\\.conda\\envs\\mlflow-520690d1b5ee3415086097f85867e680d1c79ad4\\lib\\site-packages (from pandas-profiling==2.8.0) (1.9.1)\n",
      "Requirement already satisfied: phik>=0.9.10 in c:\\users\\pc\\.conda\\envs\\mlflow-520690d1b5ee3415086097f85867e680d1c79ad4\\lib\\site-packages (from pandas-profiling==2.8.0) (0.12.2)\n",
      "Requirement already satisfied: numpy>=1.16.0 in c:\\users\\pc\\.conda\\envs\\mlflow-520690d1b5ee3415086097f85867e680d1c79ad4\\lib\\site-packages (from pandas-profiling==2.8.0) (1.23.3)\n",
      "Requirement already satisfied: confuse>=1.0.0 in c:\\users\\pc\\.conda\\envs\\mlflow-520690d1b5ee3415086097f85867e680d1c79ad4\\lib\\site-packages (from pandas-profiling==2.8.0) (2.0.0)\n",
      "Requirement already satisfied: visions[type_image_path]==0.4.4 in c:\\users\\pc\\.conda\\envs\\mlflow-520690d1b5ee3415086097f85867e680d1c79ad4\\lib\\site-packages (from pandas-profiling==2.8.0) (0.4.4)\n",
      "Requirement already satisfied: astropy>=4.0 in c:\\users\\pc\\.conda\\envs\\mlflow-520690d1b5ee3415086097f85867e680d1c79ad4\\lib\\site-packages (from pandas-profiling==2.8.0) (5.1)\n",
      "Requirement already satisfied: tangled-up-in-unicode>=0.0.6 in c:\\users\\pc\\.conda\\envs\\mlflow-520690d1b5ee3415086097f85867e680d1c79ad4\\lib\\site-packages (from pandas-profiling==2.8.0) (0.2.0)\n",
      "Requirement already satisfied: matplotlib>=3.2.0 in c:\\users\\pc\\.conda\\envs\\mlflow-520690d1b5ee3415086097f85867e680d1c79ad4\\lib\\site-packages (from pandas-profiling==2.8.0) (3.5.3)\n",
      "Requirement already satisfied: htmlmin>=0.1.12 in c:\\users\\pc\\.conda\\envs\\mlflow-520690d1b5ee3415086097f85867e680d1c79ad4\\lib\\site-packages (from pandas-profiling==2.8.0) (0.1.12)\n",
      "Requirement already satisfied: jinja2>=2.11.1 in c:\\users\\pc\\.conda\\envs\\mlflow-520690d1b5ee3415086097f85867e680d1c79ad4\\lib\\site-packages (from pandas-profiling==2.8.0) (3.0.3)\n",
      "Requirement already satisfied: requests>=2.23.0 in c:\\users\\pc\\.conda\\envs\\mlflow-520690d1b5ee3415086097f85867e680d1c79ad4\\lib\\site-packages (from pandas-profiling==2.8.0) (2.28.1)\n",
      "Requirement already satisfied: joblib in c:\\users\\pc\\.conda\\envs\\mlflow-520690d1b5ee3415086097f85867e680d1c79ad4\\lib\\site-packages (from pandas-profiling==2.8.0) (1.1.0)\n",
      "Requirement already satisfied: ipywidgets>=7.5.1 in c:\\users\\pc\\.conda\\envs\\mlflow-520690d1b5ee3415086097f85867e680d1c79ad4\\lib\\site-packages (from pandas-profiling==2.8.0) (8.0.2)\n",
      "Requirement already satisfied: pandas!=1.0.0,!=1.0.1,!=1.0.2,>=0.25.3 in c:\\users\\pc\\.conda\\envs\\mlflow-520690d1b5ee3415086097f85867e680d1c79ad4\\lib\\site-packages (from pandas-profiling==2.8.0) (1.2.3)\n",
      "Requirement already satisfied: tqdm>=4.43.0 in c:\\users\\pc\\.conda\\envs\\mlflow-520690d1b5ee3415086097f85867e680d1c79ad4\\lib\\site-packages (from pandas-profiling==2.8.0) (4.64.1)\n",
      "Requirement already satisfied: missingno>=0.4.2 in c:\\users\\pc\\.conda\\envs\\mlflow-520690d1b5ee3415086097f85867e680d1c79ad4\\lib\\site-packages (from pandas-profiling==2.8.0) (0.4.2)\n",
      "Requirement already satisfied: attrs>=19.3.0 in c:\\users\\pc\\.conda\\envs\\mlflow-520690d1b5ee3415086097f85867e680d1c79ad4\\lib\\site-packages (from visions[type_image_path]==0.4.4->pandas-profiling==2.8.0) (22.1.0)\n",
      "Requirement already satisfied: networkx>=2.4 in c:\\users\\pc\\.conda\\envs\\mlflow-520690d1b5ee3415086097f85867e680d1c79ad4\\lib\\site-packages (from visions[type_image_path]==0.4.4->pandas-profiling==2.8.0) (2.8.6)\n",
      "Requirement already satisfied: imagehash in c:\\users\\pc\\.conda\\envs\\mlflow-520690d1b5ee3415086097f85867e680d1c79ad4\\lib\\site-packages (from visions[type_image_path]==0.4.4->pandas-profiling==2.8.0) (4.3.0)\n",
      "Requirement already satisfied: Pillow in c:\\users\\pc\\.conda\\envs\\mlflow-520690d1b5ee3415086097f85867e680d1c79ad4\\lib\\site-packages (from visions[type_image_path]==0.4.4->pandas-profiling==2.8.0) (9.2.0)\n",
      "Requirement already satisfied: PyYAML>=3.13 in c:\\users\\pc\\.conda\\envs\\mlflow-520690d1b5ee3415086097f85867e680d1c79ad4\\lib\\site-packages (from astropy>=4.0->pandas-profiling==2.8.0) (6.0)\n",
      "Requirement already satisfied: pyerfa>=2.0 in c:\\users\\pc\\.conda\\envs\\mlflow-520690d1b5ee3415086097f85867e680d1c79ad4\\lib\\site-packages (from astropy>=4.0->pandas-profiling==2.8.0) (2.0.0.1)\n",
      "Requirement already satisfied: packaging>=19.0 in c:\\users\\pc\\.conda\\envs\\mlflow-520690d1b5ee3415086097f85867e680d1c79ad4\\lib\\site-packages (from astropy>=4.0->pandas-profiling==2.8.0) (21.3)\n",
      "Requirement already satisfied: ipykernel>=4.5.1 in c:\\users\\pc\\.conda\\envs\\mlflow-520690d1b5ee3415086097f85867e680d1c79ad4\\lib\\site-packages (from ipywidgets>=7.5.1->pandas-profiling==2.8.0) (6.15.3)\n",
      "Requirement already satisfied: ipython>=6.1.0 in c:\\users\\pc\\.conda\\envs\\mlflow-520690d1b5ee3415086097f85867e680d1c79ad4\\lib\\site-packages (from ipywidgets>=7.5.1->pandas-profiling==2.8.0) (8.5.0)\n",
      "Requirement already satisfied: jupyterlab-widgets~=3.0 in c:\\users\\pc\\.conda\\envs\\mlflow-520690d1b5ee3415086097f85867e680d1c79ad4\\lib\\site-packages (from ipywidgets>=7.5.1->pandas-profiling==2.8.0) (3.0.3)\n",
      "Requirement already satisfied: traitlets>=4.3.1 in c:\\users\\pc\\.conda\\envs\\mlflow-520690d1b5ee3415086097f85867e680d1c79ad4\\lib\\site-packages (from ipywidgets>=7.5.1->pandas-profiling==2.8.0) (5.4.0)\n",
      "Requirement already satisfied: widgetsnbextension~=4.0 in c:\\users\\pc\\.conda\\envs\\mlflow-520690d1b5ee3415086097f85867e680d1c79ad4\\lib\\site-packages (from ipywidgets>=7.5.1->pandas-profiling==2.8.0) (4.0.3)\n",
      "Requirement already satisfied: matplotlib-inline>=0.1 in c:\\users\\pc\\.conda\\envs\\mlflow-520690d1b5ee3415086097f85867e680d1c79ad4\\lib\\site-packages (from ipykernel>=4.5.1->ipywidgets>=7.5.1->pandas-profiling==2.8.0) (0.1.6)\n",
      "Requirement already satisfied: jupyter-client>=6.1.12 in c:\\users\\pc\\.conda\\envs\\mlflow-520690d1b5ee3415086097f85867e680d1c79ad4\\lib\\site-packages (from ipykernel>=4.5.1->ipywidgets>=7.5.1->pandas-profiling==2.8.0) (7.3.5)\n",
      "Requirement already satisfied: pyzmq>=17 in c:\\users\\pc\\.conda\\envs\\mlflow-520690d1b5ee3415086097f85867e680d1c79ad4\\lib\\site-packages (from ipykernel>=4.5.1->ipywidgets>=7.5.1->pandas-profiling==2.8.0) (24.0.0)\n",
      "Requirement already satisfied: psutil in c:\\users\\pc\\.conda\\envs\\mlflow-520690d1b5ee3415086097f85867e680d1c79ad4\\lib\\site-packages (from ipykernel>=4.5.1->ipywidgets>=7.5.1->pandas-profiling==2.8.0) (5.9.2)\n",
      "Requirement already satisfied: debugpy>=1.0 in c:\\users\\pc\\.conda\\envs\\mlflow-520690d1b5ee3415086097f85867e680d1c79ad4\\lib\\site-packages (from ipykernel>=4.5.1->ipywidgets>=7.5.1->pandas-profiling==2.8.0) (1.6.3)\n",
      "Requirement already satisfied: tornado>=6.1 in c:\\users\\pc\\.conda\\envs\\mlflow-520690d1b5ee3415086097f85867e680d1c79ad4\\lib\\site-packages (from ipykernel>=4.5.1->ipywidgets>=7.5.1->pandas-profiling==2.8.0) (6.2)\n",
      "Requirement already satisfied: nest-asyncio in c:\\users\\pc\\.conda\\envs\\mlflow-520690d1b5ee3415086097f85867e680d1c79ad4\\lib\\site-packages (from ipykernel>=4.5.1->ipywidgets>=7.5.1->pandas-profiling==2.8.0) (1.5.5)\n",
      "Requirement already satisfied: pygments>=2.4.0 in c:\\users\\pc\\.conda\\envs\\mlflow-520690d1b5ee3415086097f85867e680d1c79ad4\\lib\\site-packages (from ipython>=6.1.0->ipywidgets>=7.5.1->pandas-profiling==2.8.0) (2.13.0)\n",
      "Requirement already satisfied: decorator in c:\\users\\pc\\.conda\\envs\\mlflow-520690d1b5ee3415086097f85867e680d1c79ad4\\lib\\site-packages (from ipython>=6.1.0->ipywidgets>=7.5.1->pandas-profiling==2.8.0) (5.1.1)\n",
      "Requirement already satisfied: backcall in c:\\users\\pc\\.conda\\envs\\mlflow-520690d1b5ee3415086097f85867e680d1c79ad4\\lib\\site-packages (from ipython>=6.1.0->ipywidgets>=7.5.1->pandas-profiling==2.8.0) (0.2.0)\n",
      "Requirement already satisfied: jedi>=0.16 in c:\\users\\pc\\.conda\\envs\\mlflow-520690d1b5ee3415086097f85867e680d1c79ad4\\lib\\site-packages (from ipython>=6.1.0->ipywidgets>=7.5.1->pandas-profiling==2.8.0) (0.18.1)\n",
      "Requirement already satisfied: pickleshare in c:\\users\\pc\\.conda\\envs\\mlflow-520690d1b5ee3415086097f85867e680d1c79ad4\\lib\\site-packages (from ipython>=6.1.0->ipywidgets>=7.5.1->pandas-profiling==2.8.0) (0.7.5)\n",
      "Requirement already satisfied: colorama in c:\\users\\pc\\.conda\\envs\\mlflow-520690d1b5ee3415086097f85867e680d1c79ad4\\lib\\site-packages (from ipython>=6.1.0->ipywidgets>=7.5.1->pandas-profiling==2.8.0) (0.4.5)\n",
      "Requirement already satisfied: prompt-toolkit<3.1.0,>3.0.1 in c:\\users\\pc\\.conda\\envs\\mlflow-520690d1b5ee3415086097f85867e680d1c79ad4\\lib\\site-packages (from ipython>=6.1.0->ipywidgets>=7.5.1->pandas-profiling==2.8.0) (3.0.31)\n",
      "Requirement already satisfied: stack-data in c:\\users\\pc\\.conda\\envs\\mlflow-520690d1b5ee3415086097f85867e680d1c79ad4\\lib\\site-packages (from ipython>=6.1.0->ipywidgets>=7.5.1->pandas-profiling==2.8.0) (0.5.0)\n",
      "Requirement already satisfied: parso<0.9.0,>=0.8.0 in c:\\users\\pc\\.conda\\envs\\mlflow-520690d1b5ee3415086097f85867e680d1c79ad4\\lib\\site-packages (from jedi>=0.16->ipython>=6.1.0->ipywidgets>=7.5.1->pandas-profiling==2.8.0) (0.8.3)\n",
      "Requirement already satisfied: MarkupSafe>=2.0 in c:\\users\\pc\\.conda\\envs\\mlflow-520690d1b5ee3415086097f85867e680d1c79ad4\\lib\\site-packages (from jinja2>=2.11.1->pandas-profiling==2.8.0) (2.1.1)\n",
      "Requirement already satisfied: jupyter-core>=4.9.2 in c:\\users\\pc\\.conda\\envs\\mlflow-520690d1b5ee3415086097f85867e680d1c79ad4\\lib\\site-packages (from jupyter-client>=6.1.12->ipykernel>=4.5.1->ipywidgets>=7.5.1->pandas-profiling==2.8.0) (4.11.1)\n",
      "Requirement already satisfied: entrypoints in c:\\users\\pc\\.conda\\envs\\mlflow-520690d1b5ee3415086097f85867e680d1c79ad4\\lib\\site-packages (from jupyter-client>=6.1.12->ipykernel>=4.5.1->ipywidgets>=7.5.1->pandas-profiling==2.8.0) (0.4)\n",
      "Requirement already satisfied: python-dateutil>=2.8.2 in c:\\users\\pc\\.conda\\envs\\mlflow-520690d1b5ee3415086097f85867e680d1c79ad4\\lib\\site-packages (from jupyter-client>=6.1.12->ipykernel>=4.5.1->ipywidgets>=7.5.1->pandas-profiling==2.8.0) (2.8.2)\n",
      "Requirement already satisfied: pywin32>=1.0 in c:\\users\\pc\\.conda\\envs\\mlflow-520690d1b5ee3415086097f85867e680d1c79ad4\\lib\\site-packages (from jupyter-core>=4.9.2->jupyter-client>=6.1.12->ipykernel>=4.5.1->ipywidgets>=7.5.1->pandas-profiling==2.8.0) (303)\n",
      "Requirement already satisfied: kiwisolver>=1.0.1 in c:\\users\\pc\\.conda\\envs\\mlflow-520690d1b5ee3415086097f85867e680d1c79ad4\\lib\\site-packages (from matplotlib>=3.2.0->pandas-profiling==2.8.0) (1.4.4)\n",
      "Requirement already satisfied: fonttools>=4.22.0 in c:\\users\\pc\\.conda\\envs\\mlflow-520690d1b5ee3415086097f85867e680d1c79ad4\\lib\\site-packages (from matplotlib>=3.2.0->pandas-profiling==2.8.0) (4.37.2)\n",
      "Requirement already satisfied: pyparsing>=2.2.1 in c:\\users\\pc\\.conda\\envs\\mlflow-520690d1b5ee3415086097f85867e680d1c79ad4\\lib\\site-packages (from matplotlib>=3.2.0->pandas-profiling==2.8.0) (3.0.9)\n",
      "Requirement already satisfied: cycler>=0.10 in c:\\users\\pc\\.conda\\envs\\mlflow-520690d1b5ee3415086097f85867e680d1c79ad4\\lib\\site-packages (from matplotlib>=3.2.0->pandas-profiling==2.8.0) (0.11.0)\n",
      "Requirement already satisfied: seaborn in c:\\users\\pc\\.conda\\envs\\mlflow-520690d1b5ee3415086097f85867e680d1c79ad4\\lib\\site-packages (from missingno>=0.4.2->pandas-profiling==2.8.0) (0.11.1)\n",
      "Requirement already satisfied: pytz>=2017.3 in c:\\users\\pc\\.conda\\envs\\mlflow-520690d1b5ee3415086097f85867e680d1c79ad4\\lib\\site-packages (from pandas!=1.0.0,!=1.0.1,!=1.0.2,>=0.25.3->pandas-profiling==2.8.0) (2022.2.1)\n",
      "Requirement already satisfied: wcwidth in c:\\users\\pc\\.conda\\envs\\mlflow-520690d1b5ee3415086097f85867e680d1c79ad4\\lib\\site-packages (from prompt-toolkit<3.1.0,>3.0.1->ipython>=6.1.0->ipywidgets>=7.5.1->pandas-profiling==2.8.0) (0.2.5)\n",
      "Requirement already satisfied: six>=1.5 in c:\\users\\pc\\.conda\\envs\\mlflow-520690d1b5ee3415086097f85867e680d1c79ad4\\lib\\site-packages (from python-dateutil>=2.8.2->jupyter-client>=6.1.12->ipykernel>=4.5.1->ipywidgets>=7.5.1->pandas-profiling==2.8.0) (1.16.0)\n",
      "Requirement already satisfied: charset-normalizer<3,>=2 in c:\\users\\pc\\.conda\\envs\\mlflow-520690d1b5ee3415086097f85867e680d1c79ad4\\lib\\site-packages (from requests>=2.23.0->pandas-profiling==2.8.0) (2.1.1)\n",
      "Requirement already satisfied: urllib3<1.27,>=1.21.1 in c:\\users\\pc\\.conda\\envs\\mlflow-520690d1b5ee3415086097f85867e680d1c79ad4\\lib\\site-packages (from requests>=2.23.0->pandas-profiling==2.8.0) (1.26.11)\n",
      "Requirement already satisfied: certifi>=2017.4.17 in c:\\users\\pc\\.conda\\envs\\mlflow-520690d1b5ee3415086097f85867e680d1c79ad4\\lib\\site-packages (from requests>=2.23.0->pandas-profiling==2.8.0) (2022.9.14)\n",
      "Requirement already satisfied: idna<4,>=2.5 in c:\\users\\pc\\.conda\\envs\\mlflow-520690d1b5ee3415086097f85867e680d1c79ad4\\lib\\site-packages (from requests>=2.23.0->pandas-profiling==2.8.0) (3.4)\n",
      "Requirement already satisfied: PyWavelets in c:\\users\\pc\\.conda\\envs\\mlflow-520690d1b5ee3415086097f85867e680d1c79ad4\\lib\\site-packages (from imagehash->visions[type_image_path]==0.4.4->pandas-profiling==2.8.0) (1.4.1)\n",
      "Requirement already satisfied: asttokens in c:\\users\\pc\\.conda\\envs\\mlflow-520690d1b5ee3415086097f85867e680d1c79ad4\\lib\\site-packages (from stack-data->ipython>=6.1.0->ipywidgets>=7.5.1->pandas-profiling==2.8.0) (2.0.8)\n",
      "Requirement already satisfied: pure-eval in c:\\users\\pc\\.conda\\envs\\mlflow-520690d1b5ee3415086097f85867e680d1c79ad4\\lib\\site-packages (from stack-data->ipython>=6.1.0->ipywidgets>=7.5.1->pandas-profiling==2.8.0) (0.2.2)\n",
      "Requirement already satisfied: executing in c:\\users\\pc\\.conda\\envs\\mlflow-520690d1b5ee3415086097f85867e680d1c79ad4\\lib\\site-packages (from stack-data->ipython>=6.1.0->ipywidgets>=7.5.1->pandas-profiling==2.8.0) (1.0.0)\n"
     ]
    }
   ],
   "source": [
    "!pip install pandas-profiling==2.8.0"
   ]
  },
  {
   "cell_type": "code",
   "execution_count": null,
   "id": "58e74068",
   "metadata": {},
   "outputs": [],
   "source": [
    "!pip uninstall pandas_profiling"
   ]
  },
  {
   "cell_type": "code",
   "execution_count": 11,
   "id": "9eec8b9e",
   "metadata": {},
   "outputs": [
    {
     "ename": "AttributeError",
     "evalue": "'ProfileReport' object has no attribute 'to_widget'",
     "output_type": "error",
     "traceback": [
      "\u001b[1;31m---------------------------------------------------------------------------\u001b[0m",
      "\u001b[1;31mAttributeError\u001b[0m                            Traceback (most recent call last)",
      "Cell \u001b[1;32mIn [11], line 2\u001b[0m\n\u001b[0;32m      1\u001b[0m profile \u001b[38;5;241m=\u001b[39m pandas_profiling\u001b[38;5;241m.\u001b[39mProfileReport(df)\n\u001b[1;32m----> 2\u001b[0m \u001b[43mprofile\u001b[49m\u001b[38;5;241;43m.\u001b[39;49m\u001b[43mto_widget\u001b[49m()\n",
      "\u001b[1;31mAttributeError\u001b[0m: 'ProfileReport' object has no attribute 'to_widget'"
     ]
    }
   ],
   "source": [
    "profile = pandas_profiling.ProfileReport(df)\n",
    "profile.to_widget()"
   ]
  },
  {
   "cell_type": "code",
   "execution_count": null,
   "id": "c5abeda3",
   "metadata": {},
   "outputs": [],
   "source": []
  }
 ],
 "metadata": {
  "kernelspec": {
   "display_name": "Python 3 (ipykernel)",
   "language": "python",
   "name": "python3"
  },
  "language_info": {
   "codemirror_mode": {
    "name": "ipython",
    "version": 3
   },
   "file_extension": ".py",
   "mimetype": "text/x-python",
   "name": "python",
   "nbconvert_exporter": "python",
   "pygments_lexer": "ipython3",
   "version": "3.9.13"
  }
 },
 "nbformat": 4,
 "nbformat_minor": 5
}
